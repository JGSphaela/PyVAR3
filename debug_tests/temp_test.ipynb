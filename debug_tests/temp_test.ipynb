{
 "cells": [
  {
   "cell_type": "code",
   "id": "initial_id",
   "metadata": {
    "collapsed": true,
    "ExecuteTime": {
     "end_time": "2025-03-01T14:25:43.865762Z",
     "start_time": "2025-03-01T14:25:43.844466Z"
    }
   },
   "source": [
    "from temp_test import temp_test\n",
    "\n",
    "temp = float(temp_test())"
   ],
   "outputs": [
    {
     "name": "stdout",
     "output_type": "stream",
     "text": [
      "ResourceManager initialized successfully\n",
      "Connected to GPIB0::12::INSTR\n",
      "Command sent: KRDG?\n",
      "Response: +120.11\r\n",
      "\n",
      "120.11\n"
     ]
    }
   ],
   "execution_count": 10
  },
  {
   "metadata": {},
   "cell_type": "code",
   "outputs": [],
   "execution_count": null,
   "source": [
    "import matplotlib.pyplot as plt\n",
    "import matplotlib.animation as animation\n",
    "from temp_test import temp_test\n",
    "import time\n",
    "\n",
    "# Record the start time for the x-axis (elapsed seconds)\n",
    "start_time = time.time()\n",
    "xdata, ydata = [], []\n",
    "\n",
    "fig, ax = plt.subplots()\n",
    "line, = ax.plot([], [], lw=2)\n",
    "ax.set_xlabel(\"Time (s)\")\n",
    "ax.set_ylabel(\"Temperature\")\n",
    "ax.set_title(\"Live Temperature Plot\")\n",
    "\n",
    "# Set initial axis limits (adjust as needed)\n",
    "ax.set_xlim(0, 10)\n",
    "ax.set_ylim(0, 100)\n",
    "\n",
    "def init():\n",
    "    line.set_data([], [])\n",
    "    return line,\n",
    "\n",
    "def update(frame):\n",
    "    # Calculate elapsed time\n",
    "    elapsed = time.time() - start_time\n",
    "\n",
    "    # Call temp_test() and convert the returned string to a float\n",
    "    try:\n",
    "        temperature = float(temp_test())\n",
    "    except ValueError:\n",
    "        temperature = 0  # or handle the error as appropriate\n",
    "\n",
    "    xdata.append(elapsed)\n",
    "    ydata.append(temperature)\n",
    "\n",
    "    # Optionally update x-axis limits if necessary\n",
    "    if elapsed > ax.get_xlim()[1]:\n",
    "        ax.set_xlim(0, elapsed + 10)\n",
    "        ax.figure.canvas.draw()\n",
    "\n",
    "    line.set_data(xdata, ydata)\n",
    "    return line,\n",
    "\n",
    "# Create an animation that updates every 1000ms (1 second)\n",
    "ani = animation.FuncAnimation(\n",
    "    fig, update, init_func=init, interval=1000, blit=True\n",
    ")\n",
    "\n",
    "plt.show()\n"
   ],
   "id": "d0f9ea6ca5a4febe"
  }
 ],
 "metadata": {
  "kernelspec": {
   "display_name": "Python 3",
   "language": "python",
   "name": "python3"
  },
  "language_info": {
   "codemirror_mode": {
    "name": "ipython",
    "version": 2
   },
   "file_extension": ".py",
   "mimetype": "text/x-python",
   "name": "python",
   "nbconvert_exporter": "python",
   "pygments_lexer": "ipython2",
   "version": "2.7.6"
  }
 },
 "nbformat": 4,
 "nbformat_minor": 5
}
