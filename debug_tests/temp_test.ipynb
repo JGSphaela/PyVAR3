{
 "cells": [
  {
   "cell_type": "code",
   "id": "initial_id",
   "metadata": {
    "collapsed": true,
    "ExecuteTime": {
     "end_time": "2025-03-01T14:25:43.865762Z",
     "start_time": "2025-03-01T14:25:43.844466Z"
    }
   },
   "source": [
    "from temp_test import temp_test\n",
    "\n",
    "temp = float(temp_test())"
   ],
   "outputs": [
    {
     "name": "stdout",
     "output_type": "stream",
     "text": [
      "ResourceManager initialized successfully\n",
      "Connected to GPIB0::12::INSTR\n",
      "Command sent: KRDG?\n",
      "Response: +120.11\r\n",
      "\n",
      "120.11\n"
     ]
    }
   ],
   "execution_count": 10
  },
  {
   "metadata": {},
   "cell_type": "code",
   "outputs": [],
   "execution_count": null,
   "source": "",
   "id": "c02825d3368c24f0"
  }
 ],
 "metadata": {
  "kernelspec": {
   "display_name": "Python 3",
   "language": "python",
   "name": "python3"
  },
  "language_info": {
   "codemirror_mode": {
    "name": "ipython",
    "version": 2
   },
   "file_extension": ".py",
   "mimetype": "text/x-python",
   "name": "python",
   "nbconvert_exporter": "python",
   "pygments_lexer": "ipython2",
   "version": "2.7.6"
  }
 },
 "nbformat": 4,
 "nbformat_minor": 5
}
